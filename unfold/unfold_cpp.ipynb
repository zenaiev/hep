{
  "nbformat": 4,
  "nbformat_minor": 0,
  "metadata": {
    "colab": {
      "provenance": [],
      "authorship_tag": "ABX9TyM7HbWdxlPNkObz+OJcr2of",
      "include_colab_link": true
    },
    "kernelspec": {
      "name": "python3",
      "display_name": "Python 3"
    },
    "language_info": {
      "name": "python"
    }
  },
  "cells": [
    {
      "cell_type": "markdown",
      "metadata": {
        "id": "view-in-github",
        "colab_type": "text"
      },
      "source": [
        "<a href=\"https://colab.research.google.com/github/zenaiev/hep/blob/main/unfold/unfold_cpp.ipynb\" target=\"_parent\"><img src=\"https://colab.research.google.com/assets/colab-badge.svg\" alt=\"Open In Colab\"/></a>"
      ]
    },
    {
      "cell_type": "markdown",
      "source": [
        "Install ROOT"
      ],
      "metadata": {
        "id": "314a_or_19H_"
      }
    },
    {
      "cell_type": "code",
      "execution_count": 1,
      "metadata": {
        "colab": {
          "base_uri": "https://localhost:8080/"
        },
        "id": "aVKC5gVf13PF",
        "outputId": "70e556f5-5829-4fb0-c279-999dfe1ecd7b"
      },
      "outputs": [
        {
          "output_type": "stream",
          "name": "stdout",
          "text": [
            "--2024-10-23 15:36:17--  https://root.cern/download/root_v6.32.04.Linux-ubuntu22.04-x86_64-gcc11.4.tar.gz\n",
            "Resolving root.cern (root.cern)... 188.184.49.144, 2001:1458:d00:55::100:c\n",
            "Connecting to root.cern (root.cern)|188.184.49.144|:443... connected.\n",
            "HTTP request sent, awaiting response... 200 OK\n",
            "Length: 300006880 (286M) [application/x-gzip]\n",
            "Saving to: ‘root_v6.32.04.Linux-ubuntu22.04-x86_64-gcc11.4.tar.gz’\n",
            "\n",
            "root_v6.32.04.Linux 100%[===================>] 286.11M  18.6MB/s    in 17s     \n",
            "\n",
            "2024-10-23 15:36:36 (16.4 MB/s) - ‘root_v6.32.04.Linux-ubuntu22.04-x86_64-gcc11.4.tar.gz’ saved [300006880/300006880]\n",
            "\n"
          ]
        }
      ],
      "source": [
        "!wget https://root.cern/download/root_v6.32.04.Linux-ubuntu22.04-x86_64-gcc11.4.tar.gz\n",
        "!tar -xzf root_v6.32.04.Linux-ubuntu22.04-x86_64-gcc11.4.tar.gz\n",
        "import os\n",
        "pwd = os.getcwd()\n",
        "os.environ['ROOTSYS'] = pwd + '/root'\n",
        "os.environ['PATH'] += ':' + pwd + '/root/bin'\n",
        "os.environ['LD_LIBRARY_PATH'] += ':' + pwd + '/root/lib'\n",
        "import sys\n",
        "sys.path.append(pwd + '/root/lib')\n",
        "#import ROOT\n",
        "#print(ROOT.__version__)"
      ]
    },
    {
      "cell_type": "markdown",
      "source": [
        "Downlod RooUnfold"
      ],
      "metadata": {
        "id": "LMC5mhLO1PDI"
      }
    },
    {
      "cell_type": "code",
      "source": [
        "!rm -rf RooUnfold\n",
        "!git clone https://gitlab.cern.ch/RooUnfold/RooUnfold.git\n"
      ],
      "metadata": {
        "colab": {
          "base_uri": "https://localhost:8080/"
        },
        "id": "sdyJGCCM32hw",
        "outputId": "8775cc70-e729-4cd7-cf4c-ff799863eb1c"
      },
      "execution_count": 2,
      "outputs": [
        {
          "output_type": "stream",
          "name": "stdout",
          "text": [
            "Cloning into 'RooUnfold'...\n",
            "remote: Enumerating objects: 5528, done.\u001b[K\n",
            "remote: Counting objects: 100% (216/216), done.\u001b[K\n",
            "remote: Compressing objects: 100% (115/115), done.\u001b[K\n",
            "remote: Total 5528 (delta 135), reused 161 (delta 101), pack-reused 5312 (from 1)\u001b[K\n",
            "Receiving objects: 100% (5528/5528), 3.39 MiB | 2.97 MiB/s, done.\n",
            "Resolving deltas: 100% (4298/4298), done.\n"
          ]
        }
      ]
    },
    {
      "cell_type": "markdown",
      "source": [
        "Compile RooUnfold"
      ],
      "metadata": {
        "id": "RaF4Devt14H_"
      }
    },
    {
      "cell_type": "code",
      "source": [
        "os.chdir(pwd + '/RooUnfold')\n",
        "!mkdir build\n",
        "os.chdir(pwd + '/RooUnfold/build')\n",
        "!cmake ..\n",
        "!make -j17\n",
        "os.environ['LD_LIBRARY_PATH'] += ':' + pwd + '/RooUnfold/build'\n",
        "#os.chdir(pwd)\n",
        "#import RooUnfold\n"
      ],
      "metadata": {
        "colab": {
          "base_uri": "https://localhost:8080/"
        },
        "collapsed": true,
        "id": "c2rJdDNC2X5v",
        "outputId": "adc0ad1f-9865-4477-d4a8-dca862423482"
      },
      "execution_count": 15,
      "outputs": [
        {
          "output_type": "stream",
          "name": "stdout",
          "text": [
            "mkdir: cannot create directory ‘build’: File exists\n",
            "\u001b[0mCMake Deprecation Warning at CMakeLists.txt:9 (cmake_minimum_required):\n",
            "  Compatibility with CMake < 3.5 will be removed from a future version of\n",
            "  CMake.\n",
            "\n",
            "  Update the VERSION argument <min> value or use a ...<max> suffix to tell\n",
            "  CMake that the project does not need compatibility with older versions.\n",
            "\n",
            "\u001b[0m\n",
            "\u001b[0mSetup using plain ROOT\u001b[0m\n",
            "-- Could NOT find Doxygen (missing: DOXYGEN_EXECUTABLE) \n",
            "\u001b[0mDoxygen need to be installed to generate the doxygen documentation\u001b[0m\n",
            "-- Configuring done (0.1s)\n",
            "-- Generating done (0.0s)\n",
            "-- Build files have been written to: /content/RooUnfold/build\n",
            "[  3%] \u001b[34m\u001b[1mGenerating G__RooUnfold.cxx, libRooUnfold_rdict.pcm, libRooUnfold.rootmap\u001b[0m\n",
            "[  7%] \u001b[32mBuilding CXX object CMakeFiles/RooUnfold.dir/G__RooUnfold.o\u001b[0m\n",
            "[ 11%] \u001b[32m\u001b[1mLinking CXX shared library libRooUnfold.so\u001b[0m\n",
            "[100%] Built target RooUnfold\n"
          ]
        }
      ]
    },
    {
      "cell_type": "markdown",
      "source": [
        "Write C++ code to file unfold.cpp"
      ],
      "metadata": {
        "id": "Y4bn1lKY1YgK"
      }
    },
    {
      "cell_type": "code",
      "source": [
        "%%writefile unfold.cpp\n",
        "#if !(defined(__CINT__) || defined(__CLING__)) || defined(__ACLIC__)\n",
        "#include <iostream>\n",
        "using std::cout;\n",
        "using std::endl;\n",
        "\n",
        "#include \"TRandom.h\"\n",
        "#include \"TH1D.h\"\n",
        "#include \"TCanvas.h\"\n",
        "\n",
        "#include \"RooUnfoldResponse.h\"\n",
        "#include \"RooUnfoldBayes.h\"\n",
        "#include \"RooUnfoldSvd.h\"\n",
        "#include \"RooUnfoldTUnfold.h\"\n",
        "#include \"RooUnfoldIds.h\"\n",
        "#include <iostream>\n",
        "#include <random>\n",
        "#include <vector>\n",
        "#include <TCanvas.h>\n",
        "#include <TH1F.h>\n",
        "#include <TLegend.h>\n",
        "#include <TSystem.h>\n",
        "#include <TFile.h>\n",
        "#include <TApplication.h>\n",
        "#include <TROOT.h>\n",
        "#include <TCanvas.h>\n",
        "#include <TGraph.h>\n",
        "#include <TLine.h>\n",
        "#include <TMath.h>\n",
        "#include <TStyle.h>\n",
        "#endif\n",
        "\n",
        "using namespace std;\n",
        "\n",
        "double smear(double momentum) {\n",
        "    static default_random_engine generator(42); // random seed for reproducibility\n",
        "    normal_distribution<double> distribution(0.75, 0.25);\n",
        "    double fluct = distribution(generator);\n",
        "    return momentum * fluct;\n",
        "}\n",
        "\n",
        "void generate(int nevents, double lambda_exp,\n",
        "              RooUnfoldResponse* response = nullptr,\n",
        "              TH1F* h_true = nullptr,\n",
        "              TH1F* h_reco = nullptr) {\n",
        "    static default_random_engine generator(42); // random seed for reproducibility\n",
        "    exponential_distribution<double> exp_dist(lambda_exp);\n",
        "\n",
        "    for (int i = 0; i < nevents; ++i) {\n",
        "        double momentum_true = exp_dist(generator);\n",
        "        double momentum_measured = smear(momentum_true);\n",
        "\n",
        "        if (response) {\n",
        "            response->Fill(momentum_measured, momentum_true);\n",
        "        }\n",
        "        if (h_reco) {\n",
        "            h_reco->Fill(momentum_measured);\n",
        "        }\n",
        "        if (h_true) {\n",
        "            h_true->Fill(momentum_true);\n",
        "        }\n",
        "    }\n",
        "}\n",
        "\n",
        "int main() {\n",
        "//int unfold() {\n",
        "    // Initialize ROOT application\n",
        "    //TApplication app(\"app\", nullptr, nullptr);\n",
        "\n",
        "    // Draw smearing distribution\n",
        "    TCanvas* fig = new TCanvas(\"canvas\", \"Smearing\", 800, 600);\n",
        "    TH1F* h_smear_02 = new TH1F(\"h_smear_02\", \"Smear for p = 0.2 GeV\", 50, 0, 1.5);\n",
        "    TH1F* h_smear_2 = new TH1F(\"h_smear_2\", \"Smear for p = 2 GeV\", 50, 0, 1.5);\n",
        "\n",
        "    for (int i = 0; i < 10000; ++i) {\n",
        "        h_smear_02->Fill(smear(0.2));\n",
        "        h_smear_2->Fill(smear(2.0));\n",
        "    }\n",
        "\n",
        "    h_smear_02->SetLineColor(kBlue);\n",
        "    h_smear_2->SetLineColor(kRed);\n",
        "    h_smear_02->Draw();\n",
        "    h_smear_2->Draw(\"SAME\");\n",
        "\n",
        "    TLine* line1 = new TLine(0.2, 0, 0.2, h_smear_02->GetMaximum());\n",
        "    line1->SetLineColor(kBlack);\n",
        "    line1->Draw();\n",
        "\n",
        "    TLine* line2 = new TLine(2.0, 0, 2.0, h_smear_2->GetMaximum());\n",
        "    line2->SetLineColor(kBlack);\n",
        "    line2->Draw();\n",
        "\n",
        "    fig->SaveAs(\"smeared.pdf\");\n",
        "    fig->SaveAs(\"smeared.png\");\n",
        "\n",
        "    // Generate events\n",
        "    double lambda_exp = 2.0;\n",
        "    RooUnfoldResponse response(120, 0., 3., 30, 0., 3.);\n",
        "    generate(100000, lambda_exp, &response);\n",
        "\n",
        "    TH1F* h_data = new TH1F(\"h_data\", \"Data\", 120, 0., 3.);\n",
        "    TH1F* h_true = new TH1F(\"h_true\", \"True\", 30, 0., 3.);\n",
        "    generate(100000, lambda_exp, nullptr, h_true, h_data);\n",
        "\n",
        "    // Unfolding (unregularised and regularised)\n",
        "    auto unfold_noreg = new RooUnfoldTUnfold(&response, h_data, 0.);\n",
        "    auto h_unfold_noreg = unfold_noreg->Hunfold();\n",
        "\n",
        "    auto unfold_reg = new RooUnfoldTUnfold(&response, h_data);\n",
        "    //unfold_reg->OptimiseTau();\n",
        "    auto h_unfold_reg = unfold_reg->Hunfold();\n",
        "\n",
        "    // Plotting response matrix\n",
        "    TCanvas* c_2d = new TCanvas(\"canvas_2d\", \"Response\", 600, 600);\n",
        "    auto h_response = response.Hresponse();\n",
        "    h_response->SetStats(0);\n",
        "    h_response->GetXaxis()->SetTitle(\"momentum [GeV] (reco)\");\n",
        "    h_response->GetYaxis()->SetTitle(\"momentum [GeV] (true)\");\n",
        "    h_response->Draw(\"COLZ\");\n",
        "    c_2d->SaveAs(\"response.pdf\");\n",
        "    c_2d->SaveAs(\"response.png\");\n",
        "\n",
        "    // Plot true, reconstructed and unfolded distributions\n",
        "    TCanvas* c_1d = new TCanvas(\"canvas_1d\", \"Unfolding\", 300, 600);\n",
        "    c_1d->Divide(1, 3);\n",
        "\n",
        "    h_data->SetLineColor(kBlue);\n",
        "    h_true->SetLineColor(kBlack);\n",
        "    h_unfold_noreg->SetLineColor(kRed);\n",
        "    h_unfold_reg->SetLineColor(kMagenta);\n",
        "\n",
        "    // Rescale data for plotting\n",
        "    h_data->Scale(h_true->Integral(\"width\") / h_data->Integral(\"width\"));\n",
        "\n",
        "    auto draw_all = [&]() {\n",
        "        h_data->Draw(\"hist\");\n",
        "        h_true->Draw(\"hist same\");\n",
        "        h_unfold_noreg->Draw(\"E0 same\");\n",
        "        h_unfold_reg->Draw(\"E0 same\");\n",
        "    };\n",
        "\n",
        "    c_1d->cd(1);\n",
        "    draw_all();\n",
        "\n",
        "    TLegend* legend = new TLegend(0.5, 0.6, 0.9, 0.9);\n",
        "    legend->AddEntry(h_true, \"True\", \"l\");\n",
        "    legend->AddEntry(h_data, \"Reco\", \"l\");\n",
        "    legend->AddEntry(h_unfold_noreg, \"Reco unfolded (unregularised)\", \"l\");\n",
        "    legend->AddEntry(h_unfold_reg, \"Reco unfolded (regularised)\", \"l\");\n",
        "    legend->Draw();\n",
        "\n",
        "    c_1d->cd(2);\n",
        "    draw_all();\n",
        "    gPad->SetLogy();\n",
        "\n",
        "    c_1d->cd(3);\n",
        "    TH1F* h_unfold_noreg_ratio = static_cast<TH1F*>(h_unfold_noreg->Clone(\"h_unfold_noreg_ratio\"));\n",
        "    h_unfold_noreg_ratio->Divide(h_true);\n",
        "    TH1F* h_unfold_reg_ratio = static_cast<TH1F*>(h_unfold_reg->Clone(\"h_unfold_reg_ratio\"));\n",
        "    h_unfold_reg_ratio->Divide(h_true);\n",
        "\n",
        "    h_unfold_noreg_ratio->GetXaxis()->SetTitle(\"momentum [GeV]\");\n",
        "    h_unfold_noreg_ratio->GetYaxis()->SetTitle(\"Events\");\n",
        "    h_unfold_noreg_ratio->SetStats(0);\n",
        "    h_unfold_noreg_ratio->Draw(\"E0\");\n",
        "    h_unfold_reg_ratio->Draw(\"E0 same\");\n",
        "\n",
        "    c_1d->SaveAs(\"unfolding.pdf\");\n",
        "    c_1d->SaveAs(\"unfolding.png\");\n",
        "\n",
        "    //app.Run(); // Run the application\n",
        "\n",
        "    delete h_smear_02;\n",
        "    delete h_smear_2;\n",
        "    delete h_data;\n",
        "    delete h_true;\n",
        "    delete h_unfold_noreg;\n",
        "    delete h_unfold_reg;\n",
        "    delete c_2d;\n",
        "    delete c_1d;\n",
        "\n",
        "    return 0;\n",
        "}\n"
      ],
      "metadata": {
        "id": "0Ptf0usSDSrD",
        "outputId": "f99bc023-2b7d-4df7-bb8f-0e017817367e",
        "colab": {
          "base_uri": "https://localhost:8080/"
        }
      },
      "execution_count": 4,
      "outputs": [
        {
          "output_type": "stream",
          "name": "stdout",
          "text": [
            "Writing unfold.cpp\n"
          ]
        }
      ]
    },
    {
      "cell_type": "markdown",
      "source": [
        "Check what is in unfold.cpp"
      ],
      "metadata": {
        "id": "yBCwEWF-135S"
      }
    },
    {
      "cell_type": "code",
      "source": [
        "!ls\n",
        "!cat unfold.cpp"
      ],
      "metadata": {
        "id": "yEdGDHQaDtj0",
        "outputId": "1bf35e4a-129d-4055-f342-23269fb50a03",
        "colab": {
          "base_uri": "https://localhost:8080/"
        }
      },
      "execution_count": 5,
      "outputs": [
        {
          "output_type": "stream",
          "name": "stdout",
          "text": [
            "CMakeCache.txt\t\tRooUnfoldBayes.h       RooUnfoldInvert.h       TUnfoldBinning.h\n",
            "CMakeFiles\t\tRooUnfoldBinByBin.h    RooUnfold_LinkDef.h     TUnfoldBinningXML.h\n",
            "cmake_install.cmake\tRooUnfoldConfig.cmake  RooUnfoldParms.h        TUnfoldDensity.h\n",
            "G__RooUnfold.cxx\tRooUnfoldErrors.h      RooUnfoldPoisson.h      TUnfold.h\n",
            "libRooUnfold_rdict.pcm\tRooUnfoldFitHelpers.h  RooUnfoldResponse.h     TUnfoldIterativeEM.h\n",
            "libRooUnfold.rootmap\tRooUnfoldGP.h\t       RooUnfoldSvd.h\t       TUnfoldSys.h\n",
            "libRooUnfold.so\t\tRooUnfold.h\t       RooUnfoldTargets.cmake  unfold.cpp\n",
            "Makefile\t\tRooUnfoldHelpers.h     RooUnfoldTH1Helpers.h\n",
            "RooFitUnfold.h\t\tRooUnfoldHelpers.tpp   RooUnfoldTUnfold.h\n",
            "RooUnfold\t\tRooUnfoldIds.h\t       setup.sh\n",
            "#if !(defined(__CINT__) || defined(__CLING__)) || defined(__ACLIC__)\n",
            "#include <iostream>\n",
            "using std::cout;\n",
            "using std::endl;\n",
            "\n",
            "#include \"TRandom.h\"\n",
            "#include \"TH1D.h\"\n",
            "#include \"TCanvas.h\"\n",
            "\n",
            "#include \"RooUnfoldResponse.h\"\n",
            "#include \"RooUnfoldBayes.h\"\n",
            "#include \"RooUnfoldSvd.h\"\n",
            "#include \"RooUnfoldTUnfold.h\"\n",
            "#include \"RooUnfoldIds.h\"\n",
            "#include <iostream>\n",
            "#include <random>\n",
            "#include <vector>\n",
            "#include <TCanvas.h>\n",
            "#include <TH1F.h>\n",
            "#include <TLegend.h>\n",
            "#include <TSystem.h>\n",
            "#include <TFile.h>\n",
            "#include <TApplication.h>\n",
            "#include <TROOT.h>\n",
            "#include <TCanvas.h>\n",
            "#include <TGraph.h>\n",
            "#include <TLine.h>\n",
            "#include <TMath.h>\n",
            "#include <TStyle.h>\n",
            "#endif\n",
            "\n",
            "using namespace std;\n",
            "\n",
            "double smear(double momentum) {\n",
            "    static default_random_engine generator(42); // random seed for reproducibility\n",
            "    normal_distribution<double> distribution(0.75, 0.25);\n",
            "    double fluct = distribution(generator);\n",
            "    return momentum * fluct;\n",
            "}\n",
            "\n",
            "void generate(int nevents, double lambda_exp,\n",
            "              RooUnfoldResponse* response = nullptr,\n",
            "              TH1F* h_true = nullptr,\n",
            "              TH1F* h_reco = nullptr) {\n",
            "    static default_random_engine generator(42); // random seed for reproducibility\n",
            "    exponential_distribution<double> exp_dist(lambda_exp);\n",
            "\n",
            "    for (int i = 0; i < nevents; ++i) {\n",
            "        double momentum_true = exp_dist(generator);\n",
            "        double momentum_measured = smear(momentum_true);\n",
            "\n",
            "        if (response) {\n",
            "            response->Fill(momentum_measured, momentum_true);\n",
            "        }\n",
            "        if (h_reco) {\n",
            "            h_reco->Fill(momentum_measured);\n",
            "        }\n",
            "        if (h_true) {\n",
            "            h_true->Fill(momentum_true);\n",
            "        }\n",
            "    }\n",
            "}\n",
            "\n",
            "int main() {\n",
            "//int unfold() {\n",
            "    // Initialize ROOT application\n",
            "    TApplication app(\"app\", nullptr, nullptr);\n",
            "\n",
            "    // Draw smearing distribution\n",
            "    TCanvas* fig = new TCanvas(\"canvas\", \"Smearing\", 800, 600);\n",
            "    TH1F* h_smear_02 = new TH1F(\"h_smear_02\", \"Smear for p = 0.2 GeV\", 50, 0, 1.5);\n",
            "    TH1F* h_smear_2 = new TH1F(\"h_smear_2\", \"Smear for p = 2 GeV\", 50, 0, 1.5);\n",
            "\n",
            "    for (int i = 0; i < 10000; ++i) {\n",
            "        h_smear_02->Fill(smear(0.2));\n",
            "        h_smear_2->Fill(smear(2.0));\n",
            "    }\n",
            "\n",
            "    h_smear_02->SetLineColor(kBlue);\n",
            "    h_smear_2->SetLineColor(kRed);\n",
            "    h_smear_02->Draw();\n",
            "    h_smear_2->Draw(\"SAME\");\n",
            "\n",
            "    TLine* line1 = new TLine(0.2, 0, 0.2, h_smear_02->GetMaximum());\n",
            "    line1->SetLineColor(kBlack);\n",
            "    line1->Draw();\n",
            "\n",
            "    TLine* line2 = new TLine(2.0, 0, 2.0, h_smear_2->GetMaximum());\n",
            "    line2->SetLineColor(kBlack);\n",
            "    line2->Draw();\n",
            "\n",
            "    fig->SaveAs(\"smeared.pdf\");\n",
            "    fig->SaveAs(\"smeared.png\");\n",
            "\n",
            "    // Generate events\n",
            "    double lambda_exp = 2.0;\n",
            "    RooUnfoldResponse response(120, 0., 3., 30, 0., 3.);\n",
            "    generate(100000, lambda_exp, &response);\n",
            "\n",
            "    TH1F* h_data = new TH1F(\"h_data\", \"Data\", 120, 0., 3.);\n",
            "    TH1F* h_true = new TH1F(\"h_true\", \"True\", 30, 0., 3.);\n",
            "    generate(100000, lambda_exp, nullptr, h_true, h_data);\n",
            "\n",
            "    // Unfolding (unregularised and regularised)\n",
            "    auto unfold_noreg = new RooUnfoldTUnfold(&response, h_data, 0.);\n",
            "    auto h_unfold_noreg = unfold_noreg->Hunfold();\n",
            "\n",
            "    auto unfold_reg = new RooUnfoldTUnfold(&response, h_data);\n",
            "    //unfold_reg->OptimiseTau();\n",
            "    auto h_unfold_reg = unfold_reg->Hunfold();\n",
            "\n",
            "    // Plotting response matrix\n",
            "    TCanvas* c_2d = new TCanvas(\"canvas_2d\", \"Response\", 600, 600);\n",
            "    auto h_response = response.Hresponse();\n",
            "    h_response->SetStats(0);\n",
            "    h_response->GetXaxis()->SetTitle(\"momentum [GeV] (reco)\");\n",
            "    h_response->GetYaxis()->SetTitle(\"momentum [GeV] (true)\");\n",
            "    h_response->Draw(\"COLZ\");\n",
            "    c_2d->SaveAs(\"response.pdf\");\n",
            "    c_2d->SaveAs(\"response.png\");\n",
            "\n",
            "    // Plot true, reconstructed and unfolded distributions\n",
            "    TCanvas* c_1d = new TCanvas(\"canvas_1d\", \"Unfolding\", 300, 600);\n",
            "    c_1d->Divide(1, 3);\n",
            "\n",
            "    h_data->SetLineColor(kBlue);\n",
            "    h_true->SetLineColor(kBlack);\n",
            "    h_unfold_noreg->SetLineColor(kRed);\n",
            "    h_unfold_reg->SetLineColor(kMagenta);\n",
            "\n",
            "    // Rescale data for plotting\n",
            "    h_data->Scale(h_true->Integral(\"width\") / h_data->Integral(\"width\"));\n",
            "\n",
            "    auto draw_all = [&]() {\n",
            "        h_data->Draw(\"hist\");\n",
            "        h_true->Draw(\"hist same\");\n",
            "        h_unfold_noreg->Draw(\"E0 same\");\n",
            "        h_unfold_reg->Draw(\"E0 same\");\n",
            "    };\n",
            "\n",
            "    c_1d->cd(1);\n",
            "    draw_all();\n",
            "\n",
            "    TLegend* legend = new TLegend(0.5, 0.6, 0.9, 0.9);\n",
            "    legend->AddEntry(h_true, \"True\", \"l\");\n",
            "    legend->AddEntry(h_data, \"Reco\", \"l\");\n",
            "    legend->AddEntry(h_unfold_noreg, \"Reco unfolded (unregularised)\", \"l\");\n",
            "    legend->AddEntry(h_unfold_reg, \"Reco unfolded (regularised)\", \"l\");\n",
            "    legend->Draw();\n",
            "\n",
            "    c_1d->cd(2);\n",
            "    draw_all();\n",
            "    gPad->SetLogy();\n",
            "\n",
            "    c_1d->cd(3);\n",
            "    TH1F* h_unfold_noreg_ratio = static_cast<TH1F*>(h_unfold_noreg->Clone(\"h_unfold_noreg_ratio\"));\n",
            "    h_unfold_noreg_ratio->Divide(h_true);\n",
            "    TH1F* h_unfold_reg_ratio = static_cast<TH1F*>(h_unfold_reg->Clone(\"h_unfold_reg_ratio\"));\n",
            "    h_unfold_reg_ratio->Divide(h_true);\n",
            "\n",
            "    h_unfold_noreg_ratio->GetXaxis()->SetTitle(\"momentum [GeV]\");\n",
            "    h_unfold_noreg_ratio->GetYaxis()->SetTitle(\"Events\");\n",
            "    h_unfold_noreg_ratio->SetStats(0);\n",
            "    h_unfold_noreg_ratio->Draw(\"E0\");\n",
            "    h_unfold_reg_ratio->Draw(\"E0 same\");\n",
            "\n",
            "    c_1d->SaveAs(\"unfolding.pdf\");\n",
            "    c_1d->SaveAs(\"unfolding.png\");\n",
            "\n",
            "    app.Run(); // Run the application\n",
            "\n",
            "    delete h_smear_02;\n",
            "    delete h_smear_2;\n",
            "    delete h_data;\n",
            "    delete h_true;\n",
            "    delete h_unfold_noreg;\n",
            "    delete h_unfold_reg;\n",
            "    delete c_2d;\n",
            "    delete c_1d;\n",
            "\n",
            "    return 0;\n",
            "}\n"
          ]
        }
      ]
    },
    {
      "cell_type": "markdown",
      "source": [
        "Compile and run C++ code"
      ],
      "metadata": {
        "id": "Q_3epXmp18vJ"
      }
    },
    {
      "cell_type": "code",
      "source": [
        "#!root -l -q unfold.cpp\n",
        "!g++ unfold.cpp -o unfold `root-config --libs --cflags` -I /content/RooUnfold/build/ -I /content/RooUnfold/src -lRooUnfold -L /content/RooUnfold/build/\n",
        "import os\n",
        "os.environ['LD_LIBRARY_PATH'] += ':' + pwd\n",
        "print(os.environ['LD_LIBRARY_PATH'])\n",
        "print(pwd)\n",
        "!./unfold\n"
      ],
      "metadata": {
        "id": "bPQ8u5gCDXY7",
        "outputId": "671bd1a1-8eec-4346-fc8c-4de380de727c",
        "colab": {
          "base_uri": "https://localhost:8080/"
        }
      },
      "execution_count": null,
      "outputs": [
        {
          "output_type": "stream",
          "name": "stdout",
          "text": [
            "/usr/local/nvidia/lib:/usr/local/nvidia/lib64:/content/root/lib:/content/content/RooUnfold/build:/content:/content:/content:/content:/content:/content/RooUnfold/build:/content\n",
            "/content\n",
            "Info in <TCanvas::Print>: pdf file smeared.pdf has been created\n",
            "Info in <TCanvas::Print>: png file smeared.png has been created\n",
            "Info in <TUnfoldV17::SetConstraint>: fConstraint=1\n",
            "Info in <TUnfoldV17::TUnfold>: underflow and overflow bin do not depend on the input data\n",
            "Info in <TUnfoldV17::TUnfold>: 120 input bins and 30 output bins\n",
            "Info in <TUnfoldV17::TUnfold>: 2 regularisation conditions have been skipped\n",
            "Info in <TUnfoldV17::SetConstraint>: fConstraint=1\n",
            "Info in <TUnfoldV17::SetConstraint>: fConstraint=1\n",
            "Info in <TUnfoldV17::TUnfold>: underflow and overflow bin do not depend on the input data\n",
            "Info in <TUnfoldV17::TUnfold>: 120 input bins and 30 output bins\n",
            "Info in <TUnfoldV17::TUnfold>: 2 regularisation conditions have been skipped\n",
            "Info in <TUnfoldV17::SetConstraint>: fConstraint=1\n",
            "Info in <TUnfoldV17::ScanLcurve>: logtau=-Infinity X=2.235279 Y=8.331440\n",
            "Info in <TUnfoldV17::ScanLcurve>: logtau=-3.014813 X=2.258740 Y=7.558395\n",
            "Info in <TUnfoldV17::ScanLcurve>: logtau=-3.514813 X=2.242908 Y=7.776146\n",
            "Info in <TUnfoldV17::ScanLcurve>: logtau=-4.014813 X=2.235954 Y=8.170692\n",
            "Info in <TUnfoldV17::ScanLcurve>: logtau=-3.764813 X=2.238259 Y=7.980719\n",
            "Info in <TUnfoldV17::ScanLcurve>: logtau=-3.264813 X=2.249322 Y=7.640218\n",
            "Info in <TUnfoldV17::ScanLcurve>: logtau=-3.639813 X=2.240342 Y=7.872308\n",
            "Info in <TUnfoldV17::ScanLcurve>: logtau=-3.889813 X=2.236801 Y=8.085118\n",
            "Info in <TUnfoldV17::ScanLcurve>: logtau=-3.389813 X=2.245867 Y=7.699455\n",
            "Info in <TUnfoldV17::ScanLcurve>: logtau=-3.702313 X=2.239230 Y=7.925881\n",
            "Info in <TUnfoldV17::ScanLcurve>: logtau=-3.827313 X=2.237448 Y=8.034523\n",
            "Info in <TUnfoldV17::ScanLcurve>: logtau=-3.577313 X=2.241574 Y=7.821967\n",
            "Info in <TUnfoldV17::ScanLcurve>: logtau=-3.952313 X=2.236309 Y=8.130834\n",
            "Info in <TUnfoldV17::ScanLcurve>: logtau=-3.139813 X=2.253527 Y=7.594103\n",
            "Info in <TUnfoldV17::ScanLcurve>: logtau=-3.452313 X=2.244337 Y=7.735353\n",
            "Info in <TUnfoldV17::ScanLcurve>: logtau=-3.327313 X=2.247518 Y=7.667947\n",
            "Info in <TUnfoldV17::ScanLcurve>: logtau=-3.733563 X=2.238726 Y=7.953283\n",
            "Info in <TUnfoldV17::ScanLcurve>: logtau=-3.796063 X=2.237833 Y=8.007894\n",
            "Info in <TUnfoldV17::ScanLcurve>: logtau=-3.671063 X=2.239770 Y=7.898800\n",
            "Info in <TUnfoldV17::ScanLcurve>: logtau=-3.858563 X=2.237104 Y=8.060341\n",
            "Info in <TUnfoldV17::ScanLcurve>: logtau=-3.608563 X=2.240944 Y=7.846635\n",
            "Info in <TUnfoldV17::ScanLcurve>: logtau=-3.202313 X=2.251313 Y=7.615733\n",
            "Info in <TUnfoldV17::ScanLcurve>: logtau=-3.546063 X=2.242229 Y=7.798442\n",
            "Info in <TUnfoldV17::ScanLcurve>: logtau=-3.921063 X=2.236537 Y=8.108664\n",
            "Info in <TUnfoldV17::ScanLcurve>: logtau=-3.483563 X=2.243611 Y=7.755117\n",
            "Info in <TUnfoldV17::ScanLcurve>: logtau=-3.983563 X=2.236116 Y=8.151528\n",
            "Info in <TUnfoldV17::ScanLcurve>: logtau=-3.077313 X=2.255993 Y=7.575062\n",
            "Info in <TUnfoldV17::ScanLcurve>: logtau=-3.421063 X=2.245089 Y=7.716818\n",
            "Info in <TUnfoldV17::ScanLcurve>: logtau=-3.358563 X=2.246676 Y=7.683190\n",
            "Info in <TUnfoldV17::ScanLcurve>: logtau=-3.296063 X=2.248399 Y=7.653646\n",
            "Info in <TUnfoldV17::ScanLcurve>: Result logtau=-3.171063 X=2.252390 Y=7.604579\n",
            "Lcurve scan chose tau= 0.000674431\n",
            " at point 26\n",
            "Info in <TCanvas::Print>: pdf file response.pdf has been created\n",
            "Info in <TCanvas::Print>: png file response.png has been created\n",
            "Info in <TCanvas::Print>: pdf file unfolding.pdf has been created\n",
            "Info in <TCanvas::Print>: png file unfolding.png has been created\n"
          ]
        }
      ]
    },
    {
      "cell_type": "code",
      "source": [
        "!ls\n",
        "!pwd\n",
        "from IPython.display import Image\n",
        "Image('smeared.png')\n",
        "Image('response.png')\n",
        "Image('unfolding.png')"
      ],
      "metadata": {
        "id": "3bels1fsFOXu"
      },
      "execution_count": null,
      "outputs": []
    }
  ]
}