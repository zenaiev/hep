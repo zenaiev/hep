{
  "nbformat": 4,
  "nbformat_minor": 0,
  "metadata": {
    "colab": {
      "provenance": [],
      "authorship_tag": "ABX9TyPD425AAPbAiIFb2z44zc6L",
      "include_colab_link": true
    },
    "kernelspec": {
      "name": "python3",
      "display_name": "Python 3"
    },
    "language_info": {
      "name": "python"
    }
  },
  "cells": [
    {
      "cell_type": "markdown",
      "metadata": {
        "id": "view-in-github",
        "colab_type": "text"
      },
      "source": [
        "<a href=\"https://colab.research.google.com/github/zenaiev/hep/blob/main/unfold/unfold.ipynb\" target=\"_parent\"><img src=\"https://colab.research.google.com/assets/colab-badge.svg\" alt=\"Open In Colab\"/></a>"
      ]
    },
    {
      "cell_type": "markdown",
      "source": [
        "Install ROOT and RooUnfold"
      ],
      "metadata": {
        "id": "314a_or_19H_"
      }
    },
    {
      "cell_type": "code",
      "execution_count": 1,
      "metadata": {
        "colab": {
          "base_uri": "https://localhost:8080/"
        },
        "id": "aVKC5gVf13PF",
        "outputId": "42dff5b9-0eb7-4c81-d2c5-4595f9d397d0"
      },
      "outputs": [
        {
          "output_type": "stream",
          "name": "stdout",
          "text": [
            "--2024-10-03 02:44:14--  https://root.cern/download/root_v6.32.04.Linux-ubuntu22.04-x86_64-gcc11.4.tar.gz\n",
            "Resolving root.cern (root.cern)... 188.184.49.144, 2001:1458:d00:55::100:c\n",
            "Connecting to root.cern (root.cern)|188.184.49.144|:443... connected.\n",
            "HTTP request sent, awaiting response... 200 OK\n",
            "Length: 300006880 (286M) [application/x-gzip]\n",
            "Saving to: ‘root_v6.32.04.Linux-ubuntu22.04-x86_64-gcc11.4.tar.gz’\n",
            "\n",
            "root_v6.32.04.Linux 100%[===================>] 286.11M  30.2MB/s    in 11s     \n",
            "\n",
            "2024-10-03 02:44:26 (26.2 MB/s) - ‘root_v6.32.04.Linux-ubuntu22.04-x86_64-gcc11.4.tar.gz’ saved [300006880/300006880]\n",
            "\n"
          ]
        }
      ],
      "source": [
        "!wget https://root.cern/download/root_v6.32.04.Linux-ubuntu22.04-x86_64-gcc11.4.tar.gz\n",
        "!tar -xzf root_v6.32.04.Linux-ubuntu22.04-x86_64-gcc11.4.tar.gz\n",
        "import os\n",
        "pwd = os.getcwd()\n",
        "os.environ['ROOTSYS'] = pwd + '/root'\n",
        "os.environ['PATH'] += ':' + pwd + '/root/bin'\n",
        "os.environ['LD_LIBRARY_PATH'] += ':' + pwd + '/root/lib'\n",
        "import sys\n",
        "sys.path.append(pwd + '/root/lib')\n",
        "#import ROOT\n",
        "#print(ROOT.__version__)"
      ]
    },
    {
      "cell_type": "code",
      "source": [
        "!git clone https://gitlab.cern.ch/RooUnfold/RooUnfold.git\n"
      ],
      "metadata": {
        "colab": {
          "base_uri": "https://localhost:8080/"
        },
        "id": "sdyJGCCM32hw",
        "outputId": "2da5db56-c8c5-4f9b-f330-714516443af6"
      },
      "execution_count": 2,
      "outputs": [
        {
          "output_type": "stream",
          "name": "stdout",
          "text": [
            "Cloning into 'RooUnfold'...\n",
            "remote: Enumerating objects: 5528, done.\u001b[K\n",
            "remote: Counting objects: 100% (216/216), done.\u001b[K\n",
            "remote: Compressing objects: 100% (115/115), done.\u001b[K\n",
            "remote: Total 5528 (delta 135), reused 161 (delta 101), pack-reused 5312 (from 1)\u001b[K\n",
            "Receiving objects: 100% (5528/5528), 3.39 MiB | 4.18 MiB/s, done.\n",
            "Resolving deltas: 100% (4298/4298), done.\n"
          ]
        }
      ]
    },
    {
      "cell_type": "markdown",
      "source": [
        "\n",
        "Do unfolding"
      ],
      "metadata": {
        "id": "RaF4Devt14H_"
      }
    },
    {
      "cell_type": "code",
      "source": [
        "os.chdir(pwd + '/RooUnfold')\n",
        "!mkdir build\n",
        "os.chdir(pwd + '/RooUnfold/build')\n",
        "!cmake ..\n",
        "!make -j17\n",
        "#os.chdir(pwd)\n",
        "#import RooUnfold\n"
      ],
      "metadata": {
        "colab": {
          "base_uri": "https://localhost:8080/"
        },
        "collapsed": true,
        "id": "c2rJdDNC2X5v",
        "outputId": "adc103fe-b743-4bf2-b334-c309c8707bc4"
      },
      "execution_count": 3,
      "outputs": [
        {
          "output_type": "stream",
          "name": "stdout",
          "text": [
            "\u001b[0mCMake Deprecation Warning at CMakeLists.txt:9 (cmake_minimum_required):\n",
            "  Compatibility with CMake < 3.5 will be removed from a future version of\n",
            "  CMake.\n",
            "\n",
            "  Update the VERSION argument <min> value or use a ...<max> suffix to tell\n",
            "  CMake that the project does not need compatibility with older versions.\n",
            "\n",
            "\u001b[0m\n",
            "-- The C compiler identification is GNU 11.4.0\n",
            "-- The CXX compiler identification is GNU 11.4.0\n",
            "-- Detecting C compiler ABI info\n",
            "-- Detecting C compiler ABI info - done\n",
            "-- Check for working C compiler: /usr/bin/cc - skipped\n",
            "-- Detecting C compile features\n",
            "-- Detecting C compile features - done\n",
            "-- Detecting CXX compiler ABI info\n",
            "-- Detecting CXX compiler ABI info - done\n",
            "-- Check for working CXX compiler: /usr/bin/c++ - skipped\n",
            "-- Detecting CXX compile features\n",
            "-- Detecting CXX compile features - done\n",
            "-- Found Vdt: /content/root/include (found version \"0.4\")\n",
            "\u001b[0mSetup using plain ROOT\u001b[0m\n",
            "-- Could NOT find Doxygen (missing: DOXYGEN_EXECUTABLE) \n",
            "\u001b[0mDoxygen need to be installed to generate the doxygen documentation\u001b[0m\n",
            "-- Configuring done (1.1s)\n",
            "-- Generating done (0.0s)\n",
            "-- Build files have been written to: /content/RooUnfold/build\n",
            "[  3%] \u001b[34m\u001b[1mGenerating G__RooUnfold.cxx, libRooUnfold_rdict.pcm, libRooUnfold.rootmap\u001b[0m\n",
            "[  7%] \u001b[32mBuilding CXX object CMakeFiles/RooUnfold.dir/src/RooUnfold.o\u001b[0m\n",
            "[ 15%] \u001b[32mBuilding CXX object CMakeFiles/RooUnfold.dir/src/RooUnfoldBayes.o\u001b[0m\n",
            "[ 15%] \u001b[32mBuilding CXX object CMakeFiles/RooUnfold.dir/src/RooFitUnfold.o\u001b[0m\n",
            "[ 19%] \u001b[32mBuilding CXX object CMakeFiles/RooUnfold.dir/src/RooUnfoldBinByBin.o\u001b[0m\n",
            "[ 23%] \u001b[32mBuilding CXX object CMakeFiles/RooUnfold.dir/src/RooUnfoldErrors.o\u001b[0m\n",
            "[ 26%] \u001b[32mBuilding CXX object CMakeFiles/RooUnfold.dir/src/RooUnfoldFitHelpers.o\u001b[0m\n",
            "[ 30%] \u001b[32mBuilding CXX object CMakeFiles/RooUnfold.dir/src/RooUnfoldGP.o\u001b[0m\n",
            "[ 38%] \u001b[32mBuilding CXX object CMakeFiles/RooUnfold.dir/src/RooUnfoldIds.o\u001b[0m\n",
            "[ 34%] \u001b[32mBuilding CXX object CMakeFiles/RooUnfold.dir/src/RooUnfoldHelpers.o\u001b[0m\n",
            "[ 42%] \u001b[32mBuilding CXX object CMakeFiles/RooUnfold.dir/src/RooUnfoldInvert.o\u001b[0m\n",
            "[ 46%] \u001b[32mBuilding CXX object CMakeFiles/RooUnfold.dir/src/RooUnfoldParms.o\u001b[0m\n",
            "[ 50%] \u001b[32mBuilding CXX object CMakeFiles/RooUnfold.dir/src/RooUnfoldPoisson.o\u001b[0m\n",
            "[ 53%] \u001b[32mBuilding CXX object CMakeFiles/RooUnfold.dir/src/RooUnfoldResponse.o\u001b[0m\n",
            "[ 57%] \u001b[32mBuilding CXX object CMakeFiles/RooUnfold.dir/src/RooUnfoldSvd.o\u001b[0m\n",
            "[ 61%] \u001b[32mBuilding CXX object CMakeFiles/RooUnfold.dir/src/RooUnfoldTH1Helpers.o\u001b[0m\n",
            "[ 65%] \u001b[32mBuilding CXX object CMakeFiles/RooUnfold.dir/src/RooUnfoldTUnfold.o\u001b[0m\n",
            "[ 69%] \u001b[32mBuilding CXX object CMakeFiles/RooUnfold.dir/src/TSVDUnfold.o\u001b[0m\n",
            "[ 73%] \u001b[32mBuilding CXX object CMakeFiles/RooUnfold.dir/src/TUnfoldBinningV17.o\u001b[0m\n",
            "[ 76%] \u001b[32mBuilding CXX object CMakeFiles/RooUnfold.dir/src/TUnfoldBinningXMLV17.o\u001b[0m\n",
            "[ 80%] \u001b[32mBuilding CXX object CMakeFiles/RooUnfold.dir/src/TUnfoldDensityV17.o\u001b[0m\n",
            "[ 84%] \u001b[32mBuilding CXX object CMakeFiles/RooUnfold.dir/src/TUnfoldIterativeEMV17.o\u001b[0m\n",
            "[ 88%] \u001b[32mBuilding CXX object CMakeFiles/RooUnfold.dir/src/TUnfoldSysV17.o\u001b[0m\n",
            "[ 92%] \u001b[32mBuilding CXX object CMakeFiles/RooUnfold.dir/src/TUnfoldV17.o\u001b[0m\n",
            "[ 96%] \u001b[32mBuilding CXX object CMakeFiles/RooUnfold.dir/G__RooUnfold.o\u001b[0m\n",
            "[100%] \u001b[32m\u001b[1mLinking CXX shared library libRooUnfold.so\u001b[0m\n",
            "[100%] Built target RooUnfold\n"
          ]
        }
      ]
    },
    {
      "cell_type": "code",
      "source": [
        "import ROOT\n",
        "#import RooUnfold\n",
        "import tqdm\n",
        "import random\n",
        "from matplotlib import pyplot as plt\n",
        "#ROOT.gSystem.Load('libRooUnfold.so')\n",
        "import sys\n",
        "#sys.path.append('/home/zenaiev/soft/RooUnfold/build/RooUnfold')\n",
        "\n",
        "def smear(momentum):\n",
        "  mean = 0.75\n",
        "  sigma = 0.25\n",
        "  fluct = random.normalvariate(mean, sigma)\n",
        "  return momentum * fluct\n",
        "\n",
        "def generate(nevents, lambda_exp, response=None, h_true=None, h_reco=None):\n",
        "  for i in tqdm.tqdm(range(nevents)):\n",
        "    momentum_true = random.expovariate(lambda_exp)\n",
        "    momentum_measured = smear(momentum_true)\n",
        "    #print(momentum_true, momentum_measured)\n",
        "    if response is not None:\n",
        "      response.Fill(momentum_measured, momentum_true)\n",
        "    if h_reco is not None:\n",
        "      h_reco.Fill(momentum_measured)\n",
        "    if h_true is not None:\n",
        "      h_true.Fill(momentum_true)\n",
        "\n",
        "if __name__ == '__main__':\n",
        "  # random seed for reproducible results\n",
        "  random.seed(42)\n",
        "\n",
        "  # draw smearing distribution\n",
        "  fig, ax = plt.subplots()\n",
        "  ax.hist([smear(0.2) for i in range(10000)], bins=50, label='reco p = 0.2 GeV')\n",
        "  ax.axvline(x=0.2, color='red', label='true p = 0.2 GeV')\n",
        "  ax.hist([smear(2.0) for i in range(10000)], bins=50, label='reco p = 2 GeV', alpha=0.5)\n",
        "  ax.axvline(x=2.0, color='orange', label='true p = 2 GeV')\n",
        "  ax.legend()\n",
        "  ax.set_xlabel('momentum [GeV]')\n",
        "  #plt.show() # display immediately\n",
        "  fig.savefig('smeared.pdf')\n",
        "  fig.savefig('smeared.png')\n",
        "\n",
        "  # generate events\n",
        "  lambda_exp = 2.0\n",
        "  response = ROOT.RooUnfoldResponse(120, 0., 3., 30, 0., 3.)\n",
        "  generate(100000, lambda_exp, response=response)\n",
        "  h_data = ROOT.TH1F('h_data', 'Data', 120, 0., 3.)\n",
        "  h_true = ROOT.TH1F('h_true', 'True', 30, 0., 3.)\n",
        "  generate(100000, lambda_exp, h_reco=h_data, h_true=h_true)\n",
        "\n",
        "  # unregularised unfolding (TUnfold)\n",
        "  unfold_noreg = ROOT.RooUnfoldTUnfold (response, h_data) # third parameter is regularisation strength tau (arbitrary value here, will be reset later)\n",
        "  unfold_noreg.FixTau(0.)\n",
        "  h_unfold_noreg = unfold_noreg.Hunfold()\n",
        "\n",
        "  # regularised unfolding (TUnfold)\n",
        "  unfold_reg = ROOT.RooUnfoldTUnfold (response, h_data)\n",
        "  #unfold_noreg.FixTau(0.01)\n",
        "  unfold_reg.OptimiseTau() # by default it will do L curve scan\n",
        "  h_unfold_reg = unfold_reg.Hunfold()\n",
        "\n",
        "  # plot response matrix\n",
        "  c_2d = ROOT.TCanvas(\"canvas_2d\", \"Response\", 600, 600)\n",
        "  c_2d.SetMargin(0.1, 0.2, 0.1, 0.1)\n",
        "  h_response = response.Hresponse()\n",
        "  h_response.SetStats(0) # suppress statistics box\n",
        "  h_response.GetXaxis().SetTitle('momentum [GeV] (reco)')\n",
        "  h_response.GetYaxis().SetTitle('momentum [GeV] (true)')\n",
        "  h_response.Draw('colz')\n",
        "  c_2d.SaveAs('response.pdf')\n",
        "  c_2d.SaveAs('response.png')\n",
        "\n",
        "  # plot true, reconstructed and unfolded distributions\n",
        "  c_1d = ROOT.TCanvas(\"canvas_1d\", \"Unfolding\", 300, 600)\n",
        "  c_1d.Divide(1,3)\n",
        "  h_data.GetXaxis().SetTitle('momentum [GeV]')\n",
        "  h_data.GetYaxis().SetTitle('Events')\n",
        "  h_data.SetStats(0)\n",
        "  h_true.SetLineColor(ROOT.kBlack)\n",
        "  h_data.SetLineColor(ROOT.kBlue)\n",
        "  h_unfold_noreg.SetMarkerColor(ROOT.kRed)\n",
        "  h_unfold_noreg.SetLineColor(ROOT.kRed)\n",
        "  h_unfold_reg.SetMarkerColor(ROOT.kMagenta)\n",
        "  h_unfold_reg.SetLineColor(ROOT.kMagenta)\n",
        "  h_data.Scale(h_true.Integral('width')/h_data.Integral('width')) # rescale data for plot, because the number of bins is different\n",
        "  #h_data.SetMinimum(-1*h_data.GetMaximum())\n",
        "  def draw_all():\n",
        "    h_data.Draw('hist')\n",
        "    h_true.Draw('hist same')\n",
        "    h_unfold_noreg.Draw('e0 same')\n",
        "    h_unfold_reg.Draw('e0 same')\n",
        "  c_1d.cd(1)\n",
        "  draw_all()\n",
        "  legend = ROOT.TLegend(0.5, 0.6, 0.9, 0.9)\n",
        "  legend.AddEntry(h_true, 'True', 'l')\n",
        "  legend.AddEntry(h_data, 'Reco', 'l')\n",
        "  legend.AddEntry(h_unfold_noreg, 'Reco unfolded (unregulaarised)', 'l')\n",
        "  legend.AddEntry(h_unfold_reg, 'Reco unfolded (regulaarised)', 'l')\n",
        "  legend.Draw()\n",
        "  c_1d.cd(2)\n",
        "  draw_all()\n",
        "  ROOT.gPad.SetLogy()\n",
        "  c_1d.cd(3)\n",
        "  h_unfold_noreg_ratio = h_unfold_noreg.Clone()\n",
        "  h_unfold_noreg_ratio.Divide(h_true)\n",
        "  h_unfold_reg_ratio = h_unfold_reg.Clone()\n",
        "  h_unfold_reg_ratio.Divide(h_true)\n",
        "  #h_unfold_noreg_ratio.GetYaxis().SetRangeUser(0.5,1.5)\n",
        "  h_unfold_noreg_ratio.GetXaxis().SetTitle('momentum [GeV]')\n",
        "  h_unfold_noreg_ratio.GetYaxis().SetTitle('Events')\n",
        "  h_unfold_noreg_ratio.SetStats(0)\n",
        "  h_unfold_noreg_ratio.Draw('e0')\n",
        "  h_unfold_reg_ratio.Draw('e0 same')\n",
        "  c_1d.SaveAs('unfolding.pdf')\n",
        "  c_1d.SaveAs('unfolding.png')\n"
      ],
      "metadata": {
        "colab": {
          "base_uri": "https://localhost:8080/",
          "height": 937
        },
        "id": "tVcIZgQ0Qx7N",
        "outputId": "1e544807-aef6-4499-bc62-7c9ec5281ff8"
      },
      "execution_count": 4,
      "outputs": [
        {
          "output_type": "stream",
          "name": "stderr",
          "text": [
            "100%|██████████| 100000/100000 [00:00<00:00, 283389.73it/s]\n",
            "100%|██████████| 100000/100000 [00:00<00:00, 426861.20it/s]\n"
          ]
        },
        {
          "output_type": "error",
          "ename": "TypeError",
          "evalue": "none of the 6 overloaded methods succeeded. Full details:\n  RooUnfoldTUnfoldT<TH1,TH2>::RooUnfoldTUnfoldT<TH1,TH2>(const RooUnfoldTUnfoldT<TH1,TH2>& rhs) =>\n    TypeError: takes at most 1 arguments (2 given)\n  RooUnfoldTUnfoldT<TH1,TH2>::RooUnfoldTUnfoldT<TH1,TH2>() =>\n    TypeError: takes at most 0 arguments (2 given)\n  RooUnfoldTUnfoldT<TH1,TH2>::RooUnfoldTUnfoldT<TH1,TH2>(const char* name, const char* title) =>\n    TypeError: could not convert argument 1 (bad argument type for built-in operation)\n  RooUnfoldTUnfoldT<TH1,TH2>::RooUnfoldTUnfoldT<TH1,TH2>(const TString& name, const TString& title) =>\n    TypeError: could not convert argument 1\n  RooUnfoldTUnfoldT<TH1,TH2> constructor failed\n  RooUnfoldTUnfoldT<TH1,TH2>::RooUnfoldTUnfoldT<TH1,TH2>(const RooUnfoldResponseT<TH1,TH2>* res, const TH1* meas, Double_t tau, TUnfold::ERegMode reg = TUnfold::kRegModeDerivative, Bool_t handleFakes = false, const char* name = 0, const char* title = 0) =>\n    TypeError: takes at least 3 arguments (2 given)",
          "traceback": [
            "\u001b[0;31m---------------------------------------------------------------------------\u001b[0m",
            "\u001b[0;31mTypeError\u001b[0m                                 Traceback (most recent call last)",
            "\u001b[0;32m<ipython-input-4-4f4850307c72>\u001b[0m in \u001b[0;36m<cell line: 28>\u001b[0;34m()\u001b[0m\n\u001b[1;32m     51\u001b[0m \u001b[0;34m\u001b[0m\u001b[0m\n\u001b[1;32m     52\u001b[0m   \u001b[0;31m# unregularised unfolding (TUnfold)\u001b[0m\u001b[0;34m\u001b[0m\u001b[0;34m\u001b[0m\u001b[0m\n\u001b[0;32m---> 53\u001b[0;31m   \u001b[0munfold_noreg\u001b[0m \u001b[0;34m=\u001b[0m \u001b[0mROOT\u001b[0m\u001b[0;34m.\u001b[0m\u001b[0mRooUnfoldTUnfold\u001b[0m \u001b[0;34m(\u001b[0m\u001b[0mresponse\u001b[0m\u001b[0;34m,\u001b[0m \u001b[0mh_data\u001b[0m\u001b[0;34m)\u001b[0m \u001b[0;31m# third parameter is regularisation strength tau (arbitrary value here, will be reset later)\u001b[0m\u001b[0;34m\u001b[0m\u001b[0;34m\u001b[0m\u001b[0m\n\u001b[0m\u001b[1;32m     54\u001b[0m   \u001b[0munfold_noreg\u001b[0m\u001b[0;34m.\u001b[0m\u001b[0mFixTau\u001b[0m\u001b[0;34m(\u001b[0m\u001b[0;36m0.\u001b[0m\u001b[0;34m)\u001b[0m\u001b[0;34m\u001b[0m\u001b[0;34m\u001b[0m\u001b[0m\n\u001b[1;32m     55\u001b[0m   \u001b[0mh_unfold_noreg\u001b[0m \u001b[0;34m=\u001b[0m \u001b[0munfold_noreg\u001b[0m\u001b[0;34m.\u001b[0m\u001b[0mHunfold\u001b[0m\u001b[0;34m(\u001b[0m\u001b[0;34m)\u001b[0m\u001b[0;34m\u001b[0m\u001b[0;34m\u001b[0m\u001b[0m\n",
            "\u001b[0;31mTypeError\u001b[0m: none of the 6 overloaded methods succeeded. Full details:\n  RooUnfoldTUnfoldT<TH1,TH2>::RooUnfoldTUnfoldT<TH1,TH2>(const RooUnfoldTUnfoldT<TH1,TH2>& rhs) =>\n    TypeError: takes at most 1 arguments (2 given)\n  RooUnfoldTUnfoldT<TH1,TH2>::RooUnfoldTUnfoldT<TH1,TH2>() =>\n    TypeError: takes at most 0 arguments (2 given)\n  RooUnfoldTUnfoldT<TH1,TH2>::RooUnfoldTUnfoldT<TH1,TH2>(const char* name, const char* title) =>\n    TypeError: could not convert argument 1 (bad argument type for built-in operation)\n  RooUnfoldTUnfoldT<TH1,TH2>::RooUnfoldTUnfoldT<TH1,TH2>(const TString& name, const TString& title) =>\n    TypeError: could not convert argument 1\n  RooUnfoldTUnfoldT<TH1,TH2> constructor failed\n  RooUnfoldTUnfoldT<TH1,TH2>::RooUnfoldTUnfoldT<TH1,TH2>(const RooUnfoldResponseT<TH1,TH2>* res, const TH1* meas, Double_t tau, TUnfold::ERegMode reg = TUnfold::kRegModeDerivative, Bool_t handleFakes = false, const char* name = 0, const char* title = 0) =>\n    TypeError: takes at least 3 arguments (2 given)"
          ]
        },
        {
          "output_type": "display_data",
          "data": {
            "text/plain": [
              "<Figure size 640x480 with 1 Axes>"
            ],
            "image/png": "[encoded data removed]"
          },
          "metadata": {}
        }
      ]
    },
    {
      "cell_type": "code",
      "source": [
        "#print(pwd)\n",
        "#os.environ['PATH'] += ':' + pwd + '/RooUnfold/build'\n",
        "os.environ['LD_LIBRARY_PATH'] += ':' + pwd + '/RooUnfold/build'\n",
        "os.environ['PYTHONPATH'] = pwd + '/RooUnfold/build'\n",
        "sys.path.append(pwd + '/RooUnfold/build')\n",
        "sys.path.append(pwd + '/RooUnfold/build/RooUnfold')\n",
        "#os.chdir(pwd + '/RooUnfold/build')\n",
        "#import RooUnfold\n",
        "#import ROOT\n",
        "#print(RooUnfold.__version__)\n",
        "#r = ROOT.RooUnfoldResponse"
      ],
      "metadata": {
        "id": "NDaE1qr75O_a"
      },
      "execution_count": 4,
      "outputs": []
    },
    {
      "cell_type": "code",
      "source": [
        "!ls -la RooUnfold/__init__.py"
      ],
      "metadata": {
        "colab": {
          "base_uri": "https://localhost:8080/"
        },
        "id": "9zi1GQBXPrFz",
        "outputId": "650c52e6-f48d-46d9-fe75-aa700d5689a0"
      },
      "execution_count": 12,
      "outputs": [
        {
          "output_type": "stream",
          "name": "stdout",
          "text": [
            "lrwxrwxrwx 1 root root 37 Oct  3 02:25 RooUnfold/__init__.py -> /content/RooUnfold/python/__init__.py\n"
          ]
        }
      ]
    },
    {
      "cell_type": "code",
      "source": [
        "import ROOT\n",
        "#import RooUnfold\n",
        "import tqdm\n",
        "import random\n",
        "from matplotlib import pyplot as plt\n",
        "#ROOT.gSystem.Load('libRooUnfold.so')\n",
        "import sys\n",
        "#sys.path.append('/home/zenaiev/soft/RooUnfold/build/RooUnfold')\n",
        "\n",
        "def smear(momentum):\n",
        "  mean = 0.75\n",
        "  sigma = 0.25\n",
        "  fluct = random.normalvariate(mean, sigma)\n",
        "  return momentum * fluct\n",
        "\n",
        "def generate(nevents, lambda_exp, response=None, h_true=None, h_reco=None):\n",
        "  for i in tqdm.tqdm(range(nevents)):\n",
        "    momentum_true = random.expovariate(lambda_exp)\n",
        "    momentum_measured = smear(momentum_true)\n",
        "    #print(momentum_true, momentum_measured)\n",
        "    if response is not None:\n",
        "      response.Fill(momentum_measured, momentum_true)\n",
        "    if h_reco is not None:\n",
        "      h_reco.Fill(momentum_measured)\n",
        "    if h_true is not None:\n",
        "      h_true.Fill(momentum_true)\n",
        "\n",
        "if __name__ == '__main__':\n",
        "  # random seed for reproducible results\n",
        "  random.seed(42)\n",
        "\n",
        "  # draw smearing distribution\n",
        "  fig, ax = plt.subplots()\n",
        "  ax.hist([smear(0.2) for i in range(10000)], bins=50, label='reco p = 0.2 GeV')\n",
        "  ax.axvline(x=0.2, color='red', label='true p = 0.2 GeV')\n",
        "  ax.hist([smear(2.0) for i in range(10000)], bins=50, label='reco p = 2 GeV', alpha=0.5)\n",
        "  ax.axvline(x=2.0, color='orange', label='true p = 2 GeV')\n",
        "  ax.legend()\n",
        "  ax.set_xlabel('momentum [GeV]')\n",
        "  #plt.show() # display immediately\n",
        "  fig.savefig('smeared.pdf')\n",
        "  fig.savefig('smeared.png')\n",
        "\n",
        "  # generate events\n",
        "  lambda_exp = 2.0\n",
        "  response = ROOT.RooUnfoldResponse(120, 0., 3., 30, 0., 3.)\n",
        "  generate(100000, lambda_exp, response=response)\n",
        "  h_data = ROOT.TH1F('h_data', 'Data', 120, 0., 3.)\n",
        "  h_true = ROOT.TH1F('h_true', 'True', 30, 0., 3.)\n",
        "  generate(100000, lambda_exp, h_reco=h_data, h_true=h_true)\n",
        "\n",
        "  # unregularised unfolding (TUnfold)\n",
        "  unfold_noreg = ROOT.RooUnfoldTUnfold (response, h_data) # third parameter is regularisation strength tau (arbitrary value here, will be reset later)\n",
        "  unfold_noreg.FixTau(0.)\n",
        "  h_unfold_noreg = unfold_noreg.Hunfold()\n",
        "\n",
        "  # regularised unfolding (TUnfold)\n",
        "  unfold_reg = ROOT.RooUnfoldTUnfold (response, h_data)\n",
        "  #unfold_noreg.FixTau(0.01)\n",
        "  unfold_reg.OptimiseTau() # by default it will do L curve scan\n",
        "  h_unfold_reg = unfold_reg.Hunfold()\n",
        "\n",
        "  # plot response matrix\n",
        "  c_2d = ROOT.TCanvas(\"canvas_2d\", \"Response\", 600, 600)\n",
        "  c_2d.SetMargin(0.1, 0.2, 0.1, 0.1)\n",
        "  h_response = response.Hresponse()\n",
        "  h_response.SetStats(0) # suppress statistics box\n",
        "  h_response.GetXaxis().SetTitle('momentum [GeV] (reco)')\n",
        "  h_response.GetYaxis().SetTitle('momentum [GeV] (true)')\n",
        "  h_response.Draw('colz')\n",
        "  c_2d.SaveAs('response.pdf')\n",
        "  c_2d.SaveAs('response.png')\n",
        "\n",
        "  # plot true, reconstructed and unfolded distributions\n",
        "  c_1d = ROOT.TCanvas(\"canvas_1d\", \"Unfolding\", 300, 600)\n",
        "  c_1d.Divide(1,3)\n",
        "  h_data.GetXaxis().SetTitle('momentum [GeV]')\n",
        "  h_data.GetYaxis().SetTitle('Events')\n",
        "  h_data.SetStats(0)\n",
        "  h_true.SetLineColor(ROOT.kBlack)\n",
        "  h_data.SetLineColor(ROOT.kBlue)\n",
        "  h_unfold_noreg.SetMarkerColor(ROOT.kRed)\n",
        "  h_unfold_noreg.SetLineColor(ROOT.kRed)\n",
        "  h_unfold_reg.SetMarkerColor(ROOT.kMagenta)\n",
        "  h_unfold_reg.SetLineColor(ROOT.kMagenta)\n",
        "  h_data.Scale(h_true.Integral('width')/h_data.Integral('width')) # rescale data for plot, because the number of bins is different\n",
        "  #h_data.SetMinimum(-1*h_data.GetMaximum())\n",
        "  def draw_all():\n",
        "    h_data.Draw('hist')\n",
        "    h_true.Draw('hist same')\n",
        "    h_unfold_noreg.Draw('e0 same')\n",
        "    h_unfold_reg.Draw('e0 same')\n",
        "  c_1d.cd(1)\n",
        "  draw_all()\n",
        "  legend = ROOT.TLegend(0.5, 0.6, 0.9, 0.9)\n",
        "  legend.AddEntry(h_true, 'True', 'l')\n",
        "  legend.AddEntry(h_data, 'Reco', 'l')\n",
        "  legend.AddEntry(h_unfold_noreg, 'Reco unfolded (unregulaarised)', 'l')\n",
        "  legend.AddEntry(h_unfold_reg, 'Reco unfolded (regulaarised)', 'l')\n",
        "  legend.Draw()\n",
        "  c_1d.cd(2)\n",
        "  draw_all()\n",
        "  ROOT.gPad.SetLogy()\n",
        "  c_1d.cd(3)\n",
        "  h_unfold_noreg_ratio = h_unfold_noreg.Clone()\n",
        "  h_unfold_noreg_ratio.Divide(h_true)\n",
        "  h_unfold_reg_ratio = h_unfold_reg.Clone()\n",
        "  h_unfold_reg_ratio.Divide(h_true)\n",
        "  #h_unfold_noreg_ratio.GetYaxis().SetRangeUser(0.5,1.5)\n",
        "  h_unfold_noreg_ratio.GetXaxis().SetTitle('momentum [GeV]')\n",
        "  h_unfold_noreg_ratio.GetYaxis().SetTitle('Events')\n",
        "  h_unfold_noreg_ratio.SetStats(0)\n",
        "  h_unfold_noreg_ratio.Draw('e0')\n",
        "  h_unfold_reg_ratio.Draw('e0 same')\n",
        "  c_1d.SaveAs('unfolding.pdf')\n",
        "  c_1d.SaveAs('unfolding.png')\n"
      ],
      "metadata": {
        "colab": {
          "base_uri": "https://localhost:8080/",
          "height": 1000
        },
        "id": "1-YXsHOG17LP",
        "outputId": "3d07d614-aec3-4983-eb66-481aae87afd0"
      },
      "execution_count": 13,
      "outputs": [
        {
          "output_type": "stream",
          "name": "stderr",
          "text": [
            "100%|██████████| 100000/100000 [00:00<00:00, 446494.20it/s]\n",
            "100%|██████████| 100000/100000 [00:00<00:00, 394535.23it/s]\n"
          ]
        },
        {
          "output_type": "error",
          "ename": "TypeError",
          "evalue": "none of the 6 overloaded methods succeeded. Full details:\n  RooUnfoldTUnfoldT<TH1,TH2>::RooUnfoldTUnfoldT<TH1,TH2>(const RooUnfoldTUnfoldT<TH1,TH2>& rhs) =>\n    TypeError: takes at most 1 arguments (2 given)\n  RooUnfoldTUnfoldT<TH1,TH2>::RooUnfoldTUnfoldT<TH1,TH2>() =>\n    TypeError: takes at most 0 arguments (2 given)\n  RooUnfoldTUnfoldT<TH1,TH2>::RooUnfoldTUnfoldT<TH1,TH2>(const char* name, const char* title) =>\n    TypeError: could not convert argument 1 (bad argument type for built-in operation)\n  RooUnfoldTUnfoldT<TH1,TH2>::RooUnfoldTUnfoldT<TH1,TH2>(const TString& name, const TString& title) =>\n    TypeError: could not convert argument 1\n  RooUnfoldTUnfoldT<TH1,TH2> constructor failed\n  RooUnfoldTUnfoldT<TH1,TH2>::RooUnfoldTUnfoldT<TH1,TH2>(const RooUnfoldResponseT<TH1,TH2>* res, const TH1* meas, Double_t tau, TUnfold::ERegMode reg = TUnfold::kRegModeDerivative, Bool_t handleFakes = false, const char* name = 0, const char* title = 0) =>\n    TypeError: takes at least 3 arguments (2 given)",
          "traceback": [
            "\u001b[0;31m---------------------------------------------------------------------------\u001b[0m",
            "\u001b[0;31mTypeError\u001b[0m                                 Traceback (most recent call last)",
            "\u001b[0;32m<ipython-input-13-4f4850307c72>\u001b[0m in \u001b[0;36m<cell line: 28>\u001b[0;34m()\u001b[0m\n\u001b[1;32m     51\u001b[0m \u001b[0;34m\u001b[0m\u001b[0m\n\u001b[1;32m     52\u001b[0m   \u001b[0;31m# unregularised unfolding (TUnfold)\u001b[0m\u001b[0;34m\u001b[0m\u001b[0;34m\u001b[0m\u001b[0m\n\u001b[0;32m---> 53\u001b[0;31m   \u001b[0munfold_noreg\u001b[0m \u001b[0;34m=\u001b[0m \u001b[0mROOT\u001b[0m\u001b[0;34m.\u001b[0m\u001b[0mRooUnfoldTUnfold\u001b[0m \u001b[0;34m(\u001b[0m\u001b[0mresponse\u001b[0m\u001b[0;34m,\u001b[0m \u001b[0mh_data\u001b[0m\u001b[0;34m)\u001b[0m \u001b[0;31m# third parameter is regularisation strength tau (arbitrary value here, will be reset later)\u001b[0m\u001b[0;34m\u001b[0m\u001b[0;34m\u001b[0m\u001b[0m\n\u001b[0m\u001b[1;32m     54\u001b[0m   \u001b[0munfold_noreg\u001b[0m\u001b[0;34m.\u001b[0m\u001b[0mFixTau\u001b[0m\u001b[0;34m(\u001b[0m\u001b[0;36m0.\u001b[0m\u001b[0;34m)\u001b[0m\u001b[0;34m\u001b[0m\u001b[0;34m\u001b[0m\u001b[0m\n\u001b[1;32m     55\u001b[0m   \u001b[0mh_unfold_noreg\u001b[0m \u001b[0;34m=\u001b[0m \u001b[0munfold_noreg\u001b[0m\u001b[0;34m.\u001b[0m\u001b[0mHunfold\u001b[0m\u001b[0;34m(\u001b[0m\u001b[0;34m)\u001b[0m\u001b[0;34m\u001b[0m\u001b[0;34m\u001b[0m\u001b[0m\n",
            "\u001b[0;31mTypeError\u001b[0m: none of the 6 overloaded methods succeeded. Full details:\n  RooUnfoldTUnfoldT<TH1,TH2>::RooUnfoldTUnfoldT<TH1,TH2>(const RooUnfoldTUnfoldT<TH1,TH2>& rhs) =>\n    TypeError: takes at most 1 arguments (2 given)\n  RooUnfoldTUnfoldT<TH1,TH2>::RooUnfoldTUnfoldT<TH1,TH2>() =>\n    TypeError: takes at most 0 arguments (2 given)\n  RooUnfoldTUnfoldT<TH1,TH2>::RooUnfoldTUnfoldT<TH1,TH2>(const char* name, const char* title) =>\n    TypeError: could not convert argument 1 (bad argument type for built-in operation)\n  RooUnfoldTUnfoldT<TH1,TH2>::RooUnfoldTUnfoldT<TH1,TH2>(const TString& name, const TString& title) =>\n    TypeError: could not convert argument 1\n  RooUnfoldTUnfoldT<TH1,TH2> constructor failed\n  RooUnfoldTUnfoldT<TH1,TH2>::RooUnfoldTUnfoldT<TH1,TH2>(const RooUnfoldResponseT<TH1,TH2>* res, const TH1* meas, Double_t tau, TUnfold::ERegMode reg = TUnfold::kRegModeDerivative, Bool_t handleFakes = false, const char* name = 0, const char* title = 0) =>\n    TypeError: takes at least 3 arguments (2 given)"
          ]
        },
        {
          "output_type": "display_data",
          "data": {
            "text/plain": [
              "<Figure size 640x480 with 1 Axes>"
            ],
            "image/png": "[encoded data removed]"
          },
          "metadata": {}
        },
        {
          "output_type": "stream",
          "name": "stderr",
          "text": [
            "Warning in <TROOT::Append>: Replacing existing TH1: h_data (Potential memory leak).\n",
            "Warning in <TROOT::Append>: Replacing existing TH1: h_true (Potential memory leak).\n",
            "IncrementalExecutor::executeFunction: symbol '_ZN17RooUnfoldTUnfoldTI3TH13TH2EC1EPK18RooUnfoldResponseTIS0_S1_EPKS0_N7TUnfold8ERegModeEbPKcSC_' unresolved while linking symbol '__cf_28'!\n",
            "You are probably missing the definition of RooUnfoldTUnfoldT<TH1, TH2>::RooUnfoldTUnfoldT(RooUnfoldResponseT<TH1, TH2> const*, TH1 const*, TUnfold::ERegMode, bool, char const*, char const*)\n",
            "Maybe you need to load the corresponding shared library?\n"
          ]
        }
      ]
    }
  ]
}